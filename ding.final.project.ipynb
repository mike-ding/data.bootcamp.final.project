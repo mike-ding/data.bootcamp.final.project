{
 "cells": [
  {
   "cell_type": "markdown",
   "metadata": {},
   "source": [
    "# Final Project: How Avocado Price Can Impact Chipotle's Share Price\n",
    "### By: Mike Ding (michael.ding@stern.nyu.edu)"
   ]
  },
  {
   "cell_type": "markdown",
   "metadata": {},
   "source": [
    "### Introduction\n",
    "\n",
    "This project will examine the degree to which price fluctuations of avocados, a key ingredient used by Chipotle, can affect the price of Chipotle's stock. A major buyer of Hass avocados in specific, Chipotle estimates that it uses upwards of 400,000 each day nationally. The goal is to visualize and understand the relationship between prices.\n",
    "\n",
    "The datasets I used are explained more in-depth below; all the data was available for free online. My project will include the following figures:\n",
    "\n",
    "- graphs (scatter and line) that compare the percent change in avocado prices (both organic and non-organic) with the percent change in Chipotle's share price (weekly average closing)\n",
    "\n",
    "- a scatter comparing the percent change in avocado prices (both organic and non-organic) with the percent difference of the weekly average closing price and weekly high/low prices for Chipotle\n",
    "\n",
    "- a scatter plot comparing the percent change in avocado prices (both organic and non-organic) with the transaction volume for Chipotle during the week"
   ]
  },
  {
   "cell_type": "markdown",
   "metadata": {},
   "source": [
    "### Data Report\n",
    "\n",
    "For the avocado data, I will be using weekly data from the Hass Avocado Board.\n",
    "(https://www.kaggle.com/neuromusic/avocado-prices/version/1)\n",
    "\n",
    "This dataset provides the average price per week of avocados, and for each of these values, the total volume bought, type of avocado (either normal or organic), and region from the US is also shown. \n",
    "\n",
    "For the share price of Chipotle, I will be taking daily data from a site called Macro Trends.\n",
    "(https://www.macrotrends.net/stocks/charts/CMG/chipotle-mexican-grill/stock-price-history) \n",
    "\n",
    "**For this dataset specifically, it was originally downloaded as a csv file, but I manually edited some non-relevant text out and converted it to an excel file.**\n",
    "\n",
    "This dataset provides the daily prices of Chipotle when the market opens and closes, as well as the maximum and minimum values per day.\n",
    "\n",
    "**Important Variables**\n",
    "\n",
    "It's important to firstly note that we will be using weekly values, as the avocado dataset gives values by weeks. We will convert the Chipotle share data to weekly, treating the different variables differently. The values that we will need to find are below:\n",
    "\n",
    "Percent Change in Avocado Prices - We will need this for both organic and conventional (non-organic) data. This is the core of our exploration, as we will need to to examine how it impacts the other variables. This will be explained below, but we will be constructing graphs with only the data from weeks where the percent change in avocado prices is higher or lower than 1 standard deviation (this is to make sure the changes in prices are significant).\n",
    "\n",
    "Percent Change in Weekly Closing Price - We explore this to see if there is a correlation between meaningful avocado prices and Chipotle share price.\n",
    "\n",
    "Percent Difference between Weekly Average Close Price and Weekly High/Low - We explore this to see if a significant temporary high or low price, compared to the weekly average (closing) price, was created when there was a meaningful change in avocado prices.\n",
    "\n",
    "Total Volume Traded - We also want to see if the total transaction volume was meaningfully different when avocado prices are meaningfully high or low."
   ]
  },
  {
   "cell_type": "markdown",
   "metadata": {},
   "source": [
    "**Requisite Packages** These are the packages we need for the data analysis."
   ]
  },
  {
   "cell_type": "code",
   "execution_count": 309,
   "metadata": {},
   "outputs": [],
   "source": [
    "import pandas as pd\n",
    "import matplotlib.pyplot as plt\n",
    "import numpy as np\n",
    "import datetime as dt"
   ]
  },
  {
   "cell_type": "markdown",
   "metadata": {},
   "source": [
    "**Grabbing Avocado Data** I've uploaded the data I used into my Github repository and it is used here."
   ]
  },
  {
   "cell_type": "code",
   "execution_count": 310,
   "metadata": {},
   "outputs": [],
   "source": [
    "avocado_url = 'https://raw.githubusercontent.com/mike-ding/data.bootcamp.final.project/master/avocado.csv'\n",
    "avo_df = pd.read_csv(avocado_url)"
   ]
  },
  {
   "cell_type": "code",
   "execution_count": 311,
   "metadata": {
    "scrolled": false
   },
   "outputs": [
    {
     "data": {
      "text/html": [
       "<div>\n",
       "<style scoped>\n",
       "    .dataframe tbody tr th:only-of-type {\n",
       "        vertical-align: middle;\n",
       "    }\n",
       "\n",
       "    .dataframe tbody tr th {\n",
       "        vertical-align: top;\n",
       "    }\n",
       "\n",
       "    .dataframe thead th {\n",
       "        text-align: right;\n",
       "    }\n",
       "</style>\n",
       "<table border=\"1\" class=\"dataframe\">\n",
       "  <thead>\n",
       "    <tr style=\"text-align: right;\">\n",
       "      <th></th>\n",
       "      <th>Unnamed: 0</th>\n",
       "      <th>Date</th>\n",
       "      <th>AveragePrice</th>\n",
       "      <th>Total Volume</th>\n",
       "      <th>4046</th>\n",
       "      <th>4225</th>\n",
       "      <th>4770</th>\n",
       "      <th>Total Bags</th>\n",
       "      <th>Small Bags</th>\n",
       "      <th>Large Bags</th>\n",
       "      <th>XLarge Bags</th>\n",
       "      <th>type</th>\n",
       "      <th>year</th>\n",
       "      <th>region</th>\n",
       "    </tr>\n",
       "  </thead>\n",
       "  <tbody>\n",
       "    <tr>\n",
       "      <th>0</th>\n",
       "      <td>0</td>\n",
       "      <td>2015-12-27</td>\n",
       "      <td>1.33</td>\n",
       "      <td>64236.62</td>\n",
       "      <td>1036.74</td>\n",
       "      <td>54454.85</td>\n",
       "      <td>48.16</td>\n",
       "      <td>8696.87</td>\n",
       "      <td>8603.62</td>\n",
       "      <td>93.25</td>\n",
       "      <td>0.0</td>\n",
       "      <td>conventional</td>\n",
       "      <td>2015</td>\n",
       "      <td>Albany</td>\n",
       "    </tr>\n",
       "    <tr>\n",
       "      <th>1</th>\n",
       "      <td>1</td>\n",
       "      <td>2015-12-20</td>\n",
       "      <td>1.35</td>\n",
       "      <td>54876.98</td>\n",
       "      <td>674.28</td>\n",
       "      <td>44638.81</td>\n",
       "      <td>58.33</td>\n",
       "      <td>9505.56</td>\n",
       "      <td>9408.07</td>\n",
       "      <td>97.49</td>\n",
       "      <td>0.0</td>\n",
       "      <td>conventional</td>\n",
       "      <td>2015</td>\n",
       "      <td>Albany</td>\n",
       "    </tr>\n",
       "    <tr>\n",
       "      <th>2</th>\n",
       "      <td>2</td>\n",
       "      <td>2015-12-13</td>\n",
       "      <td>0.93</td>\n",
       "      <td>118220.22</td>\n",
       "      <td>794.70</td>\n",
       "      <td>109149.67</td>\n",
       "      <td>130.50</td>\n",
       "      <td>8145.35</td>\n",
       "      <td>8042.21</td>\n",
       "      <td>103.14</td>\n",
       "      <td>0.0</td>\n",
       "      <td>conventional</td>\n",
       "      <td>2015</td>\n",
       "      <td>Albany</td>\n",
       "    </tr>\n",
       "  </tbody>\n",
       "</table>\n",
       "</div>"
      ],
      "text/plain": [
       "   Unnamed: 0        Date  AveragePrice  Total Volume     4046       4225  \\\n",
       "0           0  2015-12-27          1.33      64236.62  1036.74   54454.85   \n",
       "1           1  2015-12-20          1.35      54876.98   674.28   44638.81   \n",
       "2           2  2015-12-13          0.93     118220.22   794.70  109149.67   \n",
       "\n",
       "     4770  Total Bags  Small Bags  Large Bags  XLarge Bags          type  \\\n",
       "0   48.16     8696.87     8603.62       93.25          0.0  conventional   \n",
       "1   58.33     9505.56     9408.07       97.49          0.0  conventional   \n",
       "2  130.50     8145.35     8042.21      103.14          0.0  conventional   \n",
       "\n",
       "   year  region  \n",
       "0  2015  Albany  \n",
       "1  2015  Albany  \n",
       "2  2015  Albany  "
      ]
     },
     "execution_count": 311,
     "metadata": {},
     "output_type": "execute_result"
    }
   ],
   "source": [
    "avo_df.head(3) ### This is what the data looks like (some columns will be removed)"
   ]
  },
  {
   "cell_type": "code",
   "execution_count": 312,
   "metadata": {
    "scrolled": false
   },
   "outputs": [
    {
     "data": {
      "text/plain": [
       "array(['Albany', 'Atlanta', 'BaltimoreWashington', 'Boise', 'Boston',\n",
       "       'BuffaloRochester', 'California', 'Charlotte', 'Chicago',\n",
       "       'CincinnatiDayton', 'Columbus', 'DallasFtWorth', 'Denver',\n",
       "       'Detroit', 'GrandRapids', 'GreatLakes', 'HarrisburgScranton',\n",
       "       'HartfordSpringfield', 'Houston', 'Indianapolis', 'Jacksonville',\n",
       "       'LasVegas', 'LosAngeles', 'Louisville', 'MiamiFtLauderdale',\n",
       "       'Midsouth', 'Nashville', 'NewOrleansMobile', 'NewYork',\n",
       "       'Northeast', 'NorthernNewEngland', 'Orlando', 'Philadelphia',\n",
       "       'PhoenixTucson', 'Pittsburgh', 'Plains', 'Portland',\n",
       "       'RaleighGreensboro', 'RichmondNorfolk', 'Roanoke', 'Sacramento',\n",
       "       'SanDiego', 'SanFrancisco', 'Seattle', 'SouthCarolina',\n",
       "       'SouthCentral', 'Southeast', 'Spokane', 'StLouis', 'Syracuse',\n",
       "       'Tampa', 'TotalUS', 'West', 'WestTexNewMexico'], dtype=object)"
      ]
     },
     "execution_count": 312,
     "metadata": {},
     "output_type": "execute_result"
    }
   ],
   "source": [
    "avo_df['region'].unique() ### The dataset provides us with averages per week at select city, regional, and national levels."
   ]
  },
  {
   "cell_type": "markdown",
   "metadata": {},
   "source": [
    "There is data for both organic and conventional (non-organic) avocados. Since Chipotle uses oragnic when it can and non-organic when it can't, we'll be working on both types of data."
   ]
  },
  {
   "cell_type": "code",
   "execution_count": 313,
   "metadata": {},
   "outputs": [],
   "source": [
    "organic = avo_df[avo_df['type'] == 'organic']\n",
    "organic_us = organic[organic['region'] == 'TotalUS'] ### We will be using the average price per week at the US level.\n",
    "\n",
    "nonorganic = avo_df[avo_df['type'] == 'conventional']\n",
    "nonorganic_us = nonorganic[nonorganic['region'] == 'TotalUS']"
   ]
  },
  {
   "cell_type": "code",
   "execution_count": 314,
   "metadata": {
    "scrolled": true
   },
   "outputs": [
    {
     "data": {
      "text/html": [
       "<div>\n",
       "<style scoped>\n",
       "    .dataframe tbody tr th:only-of-type {\n",
       "        vertical-align: middle;\n",
       "    }\n",
       "\n",
       "    .dataframe tbody tr th {\n",
       "        vertical-align: top;\n",
       "    }\n",
       "\n",
       "    .dataframe thead th {\n",
       "        text-align: right;\n",
       "    }\n",
       "</style>\n",
       "<table border=\"1\" class=\"dataframe\">\n",
       "  <thead>\n",
       "    <tr style=\"text-align: right;\">\n",
       "      <th></th>\n",
       "      <th>Unnamed: 0</th>\n",
       "      <th>Date</th>\n",
       "      <th>AveragePrice</th>\n",
       "      <th>Total Volume</th>\n",
       "      <th>4046</th>\n",
       "      <th>4225</th>\n",
       "      <th>4770</th>\n",
       "      <th>Total Bags</th>\n",
       "      <th>Small Bags</th>\n",
       "      <th>Large Bags</th>\n",
       "      <th>XLarge Bags</th>\n",
       "      <th>type</th>\n",
       "      <th>year</th>\n",
       "      <th>region</th>\n",
       "    </tr>\n",
       "  </thead>\n",
       "  <tbody>\n",
       "    <tr>\n",
       "      <th>11778</th>\n",
       "      <td>0</td>\n",
       "      <td>2015-12-27</td>\n",
       "      <td>1.52</td>\n",
       "      <td>549787.59</td>\n",
       "      <td>89709.92</td>\n",
       "      <td>206198.62</td>\n",
       "      <td>5836.04</td>\n",
       "      <td>248043.01</td>\n",
       "      <td>142262.93</td>\n",
       "      <td>105780.08</td>\n",
       "      <td>0.0</td>\n",
       "      <td>organic</td>\n",
       "      <td>2015</td>\n",
       "      <td>TotalUS</td>\n",
       "    </tr>\n",
       "    <tr>\n",
       "      <th>11779</th>\n",
       "      <td>1</td>\n",
       "      <td>2015-12-20</td>\n",
       "      <td>1.53</td>\n",
       "      <td>531478.24</td>\n",
       "      <td>93849.30</td>\n",
       "      <td>205909.13</td>\n",
       "      <td>8733.11</td>\n",
       "      <td>222986.70</td>\n",
       "      <td>130418.73</td>\n",
       "      <td>92567.97</td>\n",
       "      <td>0.0</td>\n",
       "      <td>organic</td>\n",
       "      <td>2015</td>\n",
       "      <td>TotalUS</td>\n",
       "    </tr>\n",
       "  </tbody>\n",
       "</table>\n",
       "</div>"
      ],
      "text/plain": [
       "       Unnamed: 0        Date  AveragePrice  Total Volume      4046  \\\n",
       "11778           0  2015-12-27          1.52     549787.59  89709.92   \n",
       "11779           1  2015-12-20          1.53     531478.24  93849.30   \n",
       "\n",
       "            4225     4770  Total Bags  Small Bags  Large Bags  XLarge Bags  \\\n",
       "11778  206198.62  5836.04   248043.01   142262.93   105780.08          0.0   \n",
       "11779  205909.13  8733.11   222986.70   130418.73    92567.97          0.0   \n",
       "\n",
       "          type  year   region  \n",
       "11778  organic  2015  TotalUS  \n",
       "11779  organic  2015  TotalUS  "
      ]
     },
     "execution_count": 314,
     "metadata": {},
     "output_type": "execute_result"
    }
   ],
   "source": [
    "organic_us.head(2)"
   ]
  },
  {
   "cell_type": "code",
   "execution_count": 315,
   "metadata": {
    "scrolled": true
   },
   "outputs": [
    {
     "data": {
      "text/html": [
       "<div>\n",
       "<style scoped>\n",
       "    .dataframe tbody tr th:only-of-type {\n",
       "        vertical-align: middle;\n",
       "    }\n",
       "\n",
       "    .dataframe tbody tr th {\n",
       "        vertical-align: top;\n",
       "    }\n",
       "\n",
       "    .dataframe thead th {\n",
       "        text-align: right;\n",
       "    }\n",
       "</style>\n",
       "<table border=\"1\" class=\"dataframe\">\n",
       "  <thead>\n",
       "    <tr style=\"text-align: right;\">\n",
       "      <th></th>\n",
       "      <th>Unnamed: 0</th>\n",
       "      <th>Date</th>\n",
       "      <th>AveragePrice</th>\n",
       "      <th>Total Volume</th>\n",
       "      <th>4046</th>\n",
       "      <th>4225</th>\n",
       "      <th>4770</th>\n",
       "      <th>Total Bags</th>\n",
       "      <th>Small Bags</th>\n",
       "      <th>Large Bags</th>\n",
       "      <th>XLarge Bags</th>\n",
       "      <th>type</th>\n",
       "      <th>year</th>\n",
       "      <th>region</th>\n",
       "    </tr>\n",
       "  </thead>\n",
       "  <tbody>\n",
       "    <tr>\n",
       "      <th>2652</th>\n",
       "      <td>0</td>\n",
       "      <td>2015-12-27</td>\n",
       "      <td>0.95</td>\n",
       "      <td>27297983.67</td>\n",
       "      <td>9626901.09</td>\n",
       "      <td>10197890.05</td>\n",
       "      <td>1184340.09</td>\n",
       "      <td>6288852.44</td>\n",
       "      <td>4850404.09</td>\n",
       "      <td>1252626.31</td>\n",
       "      <td>185822.04</td>\n",
       "      <td>conventional</td>\n",
       "      <td>2015</td>\n",
       "      <td>TotalUS</td>\n",
       "    </tr>\n",
       "    <tr>\n",
       "      <th>2653</th>\n",
       "      <td>1</td>\n",
       "      <td>2015-12-20</td>\n",
       "      <td>0.98</td>\n",
       "      <td>25083647.17</td>\n",
       "      <td>8710021.76</td>\n",
       "      <td>9329861.85</td>\n",
       "      <td>1201020.01</td>\n",
       "      <td>5842743.55</td>\n",
       "      <td>4618389.66</td>\n",
       "      <td>1025048.77</td>\n",
       "      <td>199305.12</td>\n",
       "      <td>conventional</td>\n",
       "      <td>2015</td>\n",
       "      <td>TotalUS</td>\n",
       "    </tr>\n",
       "  </tbody>\n",
       "</table>\n",
       "</div>"
      ],
      "text/plain": [
       "      Unnamed: 0        Date  AveragePrice  Total Volume        4046  \\\n",
       "2652           0  2015-12-27          0.95   27297983.67  9626901.09   \n",
       "2653           1  2015-12-20          0.98   25083647.17  8710021.76   \n",
       "\n",
       "             4225        4770  Total Bags  Small Bags  Large Bags  \\\n",
       "2652  10197890.05  1184340.09  6288852.44  4850404.09  1252626.31   \n",
       "2653   9329861.85  1201020.01  5842743.55  4618389.66  1025048.77   \n",
       "\n",
       "      XLarge Bags          type  year   region  \n",
       "2652    185822.04  conventional  2015  TotalUS  \n",
       "2653    199305.12  conventional  2015  TotalUS  "
      ]
     },
     "execution_count": 315,
     "metadata": {},
     "output_type": "execute_result"
    }
   ],
   "source": [
    "nonorganic_us.head(2)"
   ]
  },
  {
   "cell_type": "markdown",
   "metadata": {},
   "source": [
    "The date here is not a datetime object, so we need to convert it first, as we'll need to use the datetime function to match it up to Chipotle data."
   ]
  },
  {
   "cell_type": "code",
   "execution_count": 316,
   "metadata": {
    "scrolled": false
   },
   "outputs": [
    {
     "data": {
      "text/plain": [
       "Unnamed: 0        int64\n",
       "Date             object\n",
       "AveragePrice    float64\n",
       "Total Volume    float64\n",
       "4046            float64\n",
       "4225            float64\n",
       "4770            float64\n",
       "Total Bags      float64\n",
       "Small Bags      float64\n",
       "Large Bags      float64\n",
       "XLarge Bags     float64\n",
       "type             object\n",
       "year              int64\n",
       "region           object\n",
       "dtype: object"
      ]
     },
     "execution_count": 316,
     "metadata": {},
     "output_type": "execute_result"
    }
   ],
   "source": [
    "organic_us.dtypes ### We will convert the date to a datetime object for both the organic and nonorganic groups."
   ]
  },
  {
   "cell_type": "code",
   "execution_count": 317,
   "metadata": {
    "scrolled": false
   },
   "outputs": [
    {
     "name": "stderr",
     "output_type": "stream",
     "text": [
      "/anaconda3/lib/python3.7/site-packages/ipykernel_launcher.py:1: SettingWithCopyWarning: \n",
      "A value is trying to be set on a copy of a slice from a DataFrame.\n",
      "Try using .loc[row_indexer,col_indexer] = value instead\n",
      "\n",
      "See the caveats in the documentation: http://pandas.pydata.org/pandas-docs/stable/indexing.html#indexing-view-versus-copy\n",
      "  \"\"\"Entry point for launching an IPython kernel.\n",
      "/anaconda3/lib/python3.7/site-packages/ipykernel_launcher.py:4: SettingWithCopyWarning: \n",
      "A value is trying to be set on a copy of a slice from a DataFrame.\n",
      "Try using .loc[row_indexer,col_indexer] = value instead\n",
      "\n",
      "See the caveats in the documentation: http://pandas.pydata.org/pandas-docs/stable/indexing.html#indexing-view-versus-copy\n",
      "  after removing the cwd from sys.path.\n"
     ]
    }
   ],
   "source": [
    "organic_us['Date1'] = pd.to_datetime(organic_us['Date'])\n",
    "organic_us.set_index('Date1', inplace=True)\n",
    "\n",
    "nonorganic_us['Date1'] = pd.to_datetime(nonorganic_us['Date'])\n",
    "nonorganic_us.set_index('Date1', inplace=True)"
   ]
  },
  {
   "cell_type": "markdown",
   "metadata": {},
   "source": [
    "**Cleaning Avocado Data** I'm deleting some columns here that are necessary, and I also add the price percentage change - it will show as a decimal, that can be converted into a percent. Then, I sort the data by date."
   ]
  },
  {
   "cell_type": "code",
   "execution_count": 318,
   "metadata": {
    "scrolled": true
   },
   "outputs": [],
   "source": [
    "del organic_us['Unnamed: 0']\n",
    "del organic_us['Total Bags']\n",
    "del organic_us['Small Bags']\n",
    "del organic_us['Large Bags']\n",
    "del organic_us['XLarge Bags']\n",
    "del organic_us['Date']\n",
    "del organic_us['4046']\n",
    "del organic_us['4225']\n",
    "del organic_us['4770']\n",
    "\n",
    "\n",
    "del nonorganic_us['Unnamed: 0']\n",
    "del nonorganic_us['Total Bags']\n",
    "del nonorganic_us['Small Bags']\n",
    "del nonorganic_us['Large Bags']\n",
    "del nonorganic_us['XLarge Bags']\n",
    "del nonorganic_us['Date']\n",
    "del nonorganic_us['4046']\n",
    "del nonorganic_us['4225']\n",
    "del nonorganic_us['4770']"
   ]
  },
  {
   "cell_type": "code",
   "execution_count": 319,
   "metadata": {
    "scrolled": false
   },
   "outputs": [
    {
     "name": "stderr",
     "output_type": "stream",
     "text": [
      "/anaconda3/lib/python3.7/site-packages/ipykernel_launcher.py:1: SettingWithCopyWarning: \n",
      "A value is trying to be set on a copy of a slice from a DataFrame.\n",
      "Try using .loc[row_indexer,col_indexer] = value instead\n",
      "\n",
      "See the caveats in the documentation: http://pandas.pydata.org/pandas-docs/stable/indexing.html#indexing-view-versus-copy\n",
      "  \"\"\"Entry point for launching an IPython kernel.\n",
      "/anaconda3/lib/python3.7/site-packages/ipykernel_launcher.py:2: SettingWithCopyWarning: \n",
      "A value is trying to be set on a copy of a slice from a DataFrame.\n",
      "Try using .loc[row_indexer,col_indexer] = value instead\n",
      "\n",
      "See the caveats in the documentation: http://pandas.pydata.org/pandas-docs/stable/indexing.html#indexing-view-versus-copy\n",
      "  \n",
      "/anaconda3/lib/python3.7/site-packages/ipykernel_launcher.py:4: SettingWithCopyWarning: \n",
      "A value is trying to be set on a copy of a slice from a DataFrame\n",
      "\n",
      "See the caveats in the documentation: http://pandas.pydata.org/pandas-docs/stable/indexing.html#indexing-view-versus-copy\n",
      "  after removing the cwd from sys.path.\n",
      "/anaconda3/lib/python3.7/site-packages/ipykernel_launcher.py:5: SettingWithCopyWarning: \n",
      "A value is trying to be set on a copy of a slice from a DataFrame\n",
      "\n",
      "See the caveats in the documentation: http://pandas.pydata.org/pandas-docs/stable/indexing.html#indexing-view-versus-copy\n",
      "  \"\"\"\n"
     ]
    }
   ],
   "source": [
    "organic_us['price % change'] = organic_us['AveragePrice'].pct_change()\n",
    "nonorganic_us['price % change'] = nonorganic_us['AveragePrice'].pct_change()\n",
    "\n",
    "organic_us.sort_values('Date1', inplace=True)\n",
    "nonorganic_us.sort_values('Date1', inplace=True)"
   ]
  },
  {
   "cell_type": "code",
   "execution_count": 320,
   "metadata": {
    "scrolled": true
   },
   "outputs": [
    {
     "data": {
      "text/html": [
       "<div>\n",
       "<style scoped>\n",
       "    .dataframe tbody tr th:only-of-type {\n",
       "        vertical-align: middle;\n",
       "    }\n",
       "\n",
       "    .dataframe tbody tr th {\n",
       "        vertical-align: top;\n",
       "    }\n",
       "\n",
       "    .dataframe thead th {\n",
       "        text-align: right;\n",
       "    }\n",
       "</style>\n",
       "<table border=\"1\" class=\"dataframe\">\n",
       "  <thead>\n",
       "    <tr style=\"text-align: right;\">\n",
       "      <th></th>\n",
       "      <th>AveragePrice</th>\n",
       "      <th>Total Volume</th>\n",
       "      <th>type</th>\n",
       "      <th>year</th>\n",
       "      <th>region</th>\n",
       "      <th>price % change</th>\n",
       "    </tr>\n",
       "    <tr>\n",
       "      <th>Date1</th>\n",
       "      <th></th>\n",
       "      <th></th>\n",
       "      <th></th>\n",
       "      <th></th>\n",
       "      <th></th>\n",
       "      <th></th>\n",
       "    </tr>\n",
       "  </thead>\n",
       "  <tbody>\n",
       "    <tr>\n",
       "      <th>2015-01-04</th>\n",
       "      <td>1.46</td>\n",
       "      <td>612910.15</td>\n",
       "      <td>organic</td>\n",
       "      <td>2015</td>\n",
       "      <td>TotalUS</td>\n",
       "      <td>0.028169</td>\n",
       "    </tr>\n",
       "    <tr>\n",
       "      <th>2015-01-11</th>\n",
       "      <td>1.42</td>\n",
       "      <td>669528.88</td>\n",
       "      <td>organic</td>\n",
       "      <td>2015</td>\n",
       "      <td>TotalUS</td>\n",
       "      <td>0.000000</td>\n",
       "    </tr>\n",
       "    <tr>\n",
       "      <th>2015-01-18</th>\n",
       "      <td>1.42</td>\n",
       "      <td>713120.00</td>\n",
       "      <td>organic</td>\n",
       "      <td>2015</td>\n",
       "      <td>TotalUS</td>\n",
       "      <td>-0.071895</td>\n",
       "    </tr>\n",
       "  </tbody>\n",
       "</table>\n",
       "</div>"
      ],
      "text/plain": [
       "            AveragePrice  Total Volume     type  year   region  price % change\n",
       "Date1                                                                         \n",
       "2015-01-04          1.46     612910.15  organic  2015  TotalUS        0.028169\n",
       "2015-01-11          1.42     669528.88  organic  2015  TotalUS        0.000000\n",
       "2015-01-18          1.42     713120.00  organic  2015  TotalUS       -0.071895"
      ]
     },
     "execution_count": 320,
     "metadata": {},
     "output_type": "execute_result"
    }
   ],
   "source": [
    "organic_us.head(3)"
   ]
  },
  {
   "cell_type": "code",
   "execution_count": 321,
   "metadata": {},
   "outputs": [
    {
     "data": {
      "text/html": [
       "<div>\n",
       "<style scoped>\n",
       "    .dataframe tbody tr th:only-of-type {\n",
       "        vertical-align: middle;\n",
       "    }\n",
       "\n",
       "    .dataframe tbody tr th {\n",
       "        vertical-align: top;\n",
       "    }\n",
       "\n",
       "    .dataframe thead th {\n",
       "        text-align: right;\n",
       "    }\n",
       "</style>\n",
       "<table border=\"1\" class=\"dataframe\">\n",
       "  <thead>\n",
       "    <tr style=\"text-align: right;\">\n",
       "      <th></th>\n",
       "      <th>AveragePrice</th>\n",
       "      <th>Total Volume</th>\n",
       "      <th>type</th>\n",
       "      <th>year</th>\n",
       "      <th>region</th>\n",
       "      <th>price % change</th>\n",
       "    </tr>\n",
       "    <tr>\n",
       "      <th>Date1</th>\n",
       "      <th></th>\n",
       "      <th></th>\n",
       "      <th></th>\n",
       "      <th></th>\n",
       "      <th></th>\n",
       "      <th></th>\n",
       "    </tr>\n",
       "  </thead>\n",
       "  <tbody>\n",
       "    <tr>\n",
       "      <th>2015-01-04</th>\n",
       "      <td>0.95</td>\n",
       "      <td>31324277.73</td>\n",
       "      <td>conventional</td>\n",
       "      <td>2015</td>\n",
       "      <td>TotalUS</td>\n",
       "      <td>-0.059406</td>\n",
       "    </tr>\n",
       "    <tr>\n",
       "      <th>2015-01-11</th>\n",
       "      <td>1.01</td>\n",
       "      <td>29063542.75</td>\n",
       "      <td>conventional</td>\n",
       "      <td>2015</td>\n",
       "      <td>TotalUS</td>\n",
       "      <td>-0.019417</td>\n",
       "    </tr>\n",
       "    <tr>\n",
       "      <th>2015-01-18</th>\n",
       "      <td>1.03</td>\n",
       "      <td>29043458.85</td>\n",
       "      <td>conventional</td>\n",
       "      <td>2015</td>\n",
       "      <td>TotalUS</td>\n",
       "      <td>-0.009615</td>\n",
       "    </tr>\n",
       "  </tbody>\n",
       "</table>\n",
       "</div>"
      ],
      "text/plain": [
       "            AveragePrice  Total Volume          type  year   region  \\\n",
       "Date1                                                                 \n",
       "2015-01-04          0.95   31324277.73  conventional  2015  TotalUS   \n",
       "2015-01-11          1.01   29063542.75  conventional  2015  TotalUS   \n",
       "2015-01-18          1.03   29043458.85  conventional  2015  TotalUS   \n",
       "\n",
       "            price % change  \n",
       "Date1                       \n",
       "2015-01-04       -0.059406  \n",
       "2015-01-11       -0.019417  \n",
       "2015-01-18       -0.009615  "
      ]
     },
     "execution_count": 321,
     "metadata": {},
     "output_type": "execute_result"
    }
   ],
   "source": [
    "nonorganic_us.head(3)"
   ]
  },
  {
   "cell_type": "markdown",
   "metadata": {},
   "source": [
    "**Significant Stats for Percent Change in Avocado Prices between Weeks** The mean and standard deviations (first and second) for the weekly percent change in prices between 2015-2018 are shown here. These will be used later."
   ]
  },
  {
   "cell_type": "code",
   "execution_count": 327,
   "metadata": {
    "scrolled": true
   },
   "outputs": [],
   "source": [
    "org_mean = organic_us['price % change'].mean()\n",
    "org_stan_dev = np.std(organic_us['price % change'])\n",
    "\n",
    "org_sd_up = org_mean + org_stan_dev \n",
    "org_sd_down = org_mean - org_stan_dev\n",
    "\n",
    "org_sd2_up = org_mean + 2*org_stan_dev\n",
    "org_sd2_down = org_mean - 2*org_stan_dev\n",
    "\n",
    "\n",
    "nonorg_mean = nonorganic_us['price % change'].mean()\n",
    "nonorg_stan_dev = np.std(nonorganic_us['price % change'])\n",
    "\n",
    "nonorg_sd_up = nonorg_mean + nonorg_stan_dev\n",
    "nonorg_sd_down = nonorg_mean - nonorg_stan_dev\n",
    "\n",
    "nonorg_sd2_up = nonorg_mean + 2*nonorg_stan_dev\n",
    "nonorg_sd2_down = nonorg_mean - 2*nonorg_stan_dev"
   ]
  },
  {
   "cell_type": "code",
   "execution_count": 329,
   "metadata": {
    "scrolled": true
   },
   "outputs": [
    {
     "name": "stdout",
     "output_type": "stream",
     "text": [
      "For the organic data, \n",
      "The upper standard deviation is 0.08387012486772391\n",
      "The mean is 0.0031025682071763364\n",
      "The lower standard deviation is -0.07766498845337125\n",
      "\n",
      "For the non-organic data, \n",
      "The upper standard deviation is 0.06923249028962009\n",
      "The mean is 0.0031193927000917154\n",
      "The lower standard deviation is -0.06299370488943665\n"
     ]
    }
   ],
   "source": [
    "print('For the organic data, \\n'\n",
    "      'The upper standard deviation is ' + str(org_sd_up) + '\\n'\n",
    "      'The mean is ' + str(org_mean) + '\\n'\n",
    "      'The lower standard deviation is ' + str(org_sd_down) + '\\n'\n",
    "     \n",
    "      '\\n'\n",
    "      \n",
    "      'For the non-organic data, \\n'\n",
    "      'The upper standard deviation is ' + str(nonorg_sd_up) + '\\n'\n",
    "      'The mean is ' + str(nonorg_mean) + '\\n'\n",
    "      'The lower standard deviation is ' + str(nonorg_sd_down)\n",
    "     )"
   ]
  },
  {
   "cell_type": "markdown",
   "metadata": {},
   "source": [
    "**Grabbing Chipotle Data** This data is also on my Github"
   ]
  },
  {
   "cell_type": "code",
   "execution_count": 330,
   "metadata": {},
   "outputs": [],
   "source": [
    "chipotle_url = 'https://raw.githubusercontent.com/mike-ding/data.bootcamp.final.project/master/Chipotle.xlsx'\n",
    "chip_df = pd.read_excel(chipotle_url)"
   ]
  },
  {
   "cell_type": "code",
   "execution_count": 331,
   "metadata": {
    "scrolled": true
   },
   "outputs": [
    {
     "data": {
      "text/html": [
       "<div>\n",
       "<style scoped>\n",
       "    .dataframe tbody tr th:only-of-type {\n",
       "        vertical-align: middle;\n",
       "    }\n",
       "\n",
       "    .dataframe tbody tr th {\n",
       "        vertical-align: top;\n",
       "    }\n",
       "\n",
       "    .dataframe thead th {\n",
       "        text-align: right;\n",
       "    }\n",
       "</style>\n",
       "<table border=\"1\" class=\"dataframe\">\n",
       "  <thead>\n",
       "    <tr style=\"text-align: right;\">\n",
       "      <th></th>\n",
       "      <th>date</th>\n",
       "      <th>open</th>\n",
       "      <th>high</th>\n",
       "      <th>low</th>\n",
       "      <th>close</th>\n",
       "      <th>volume</th>\n",
       "    </tr>\n",
       "  </thead>\n",
       "  <tbody>\n",
       "    <tr>\n",
       "      <th>0</th>\n",
       "      <td>2006-01-26</td>\n",
       "      <td>45.00</td>\n",
       "      <td>48.28</td>\n",
       "      <td>39.51</td>\n",
       "      <td>44.0</td>\n",
       "      <td>13218600</td>\n",
       "    </tr>\n",
       "    <tr>\n",
       "      <th>1</th>\n",
       "      <td>2006-01-27</td>\n",
       "      <td>44.88</td>\n",
       "      <td>44.90</td>\n",
       "      <td>41.75</td>\n",
       "      <td>42.2</td>\n",
       "      <td>1150800</td>\n",
       "    </tr>\n",
       "    <tr>\n",
       "      <th>2</th>\n",
       "      <td>2006-01-30</td>\n",
       "      <td>42.20</td>\n",
       "      <td>45.51</td>\n",
       "      <td>41.25</td>\n",
       "      <td>44.8</td>\n",
       "      <td>735800</td>\n",
       "    </tr>\n",
       "  </tbody>\n",
       "</table>\n",
       "</div>"
      ],
      "text/plain": [
       "         date   open   high    low  close    volume\n",
       "0  2006-01-26  45.00  48.28  39.51   44.0  13218600\n",
       "1  2006-01-27  44.88  44.90  41.75   42.2   1150800\n",
       "2  2006-01-30  42.20  45.51  41.25   44.8    735800"
      ]
     },
     "execution_count": 331,
     "metadata": {},
     "output_type": "execute_result"
    }
   ],
   "source": [
    "chip_df.head(3)"
   ]
  },
  {
   "cell_type": "markdown",
   "metadata": {},
   "source": [
    "We need to convert the date column to a datetime object for the Chipotle data."
   ]
  },
  {
   "cell_type": "code",
   "execution_count": 332,
   "metadata": {},
   "outputs": [
    {
     "data": {
      "text/plain": [
       "date       object\n",
       "open      float64\n",
       "high      float64\n",
       "low       float64\n",
       "close     float64\n",
       "volume      int64\n",
       "dtype: object"
      ]
     },
     "execution_count": 332,
     "metadata": {},
     "output_type": "execute_result"
    }
   ],
   "source": [
    "chip_df.dtypes"
   ]
  },
  {
   "cell_type": "code",
   "execution_count": 333,
   "metadata": {},
   "outputs": [],
   "source": [
    "chip_df['date1'] = pd.to_datetime(chip_df['date'])\n",
    "\n",
    "chip_df.set_index(['date1'], inplace=True)"
   ]
  },
  {
   "cell_type": "markdown",
   "metadata": {},
   "source": [
    "After doing so, we need to resample the Chipotle data, which is daily, so that it matches the weekly avocado data."
   ]
  },
  {
   "cell_type": "code",
   "execution_count": 334,
   "metadata": {},
   "outputs": [],
   "source": [
    "weekly_close = chip_df['close'].resample('w').mean()\n",
    "weekly_high = chip_df['high'].resample('w').max()\n",
    "weekly_low = chip_df['low'].resample('w').min()\n",
    "weekly_volume = chip_df['volume'].resample('w').sum()"
   ]
  },
  {
   "cell_type": "code",
   "execution_count": 335,
   "metadata": {},
   "outputs": [],
   "source": [
    "weekly = pd.concat([weekly_close, weekly_high, weekly_low, weekly_volume], axis = 1)"
   ]
  },
  {
   "cell_type": "code",
   "execution_count": 336,
   "metadata": {},
   "outputs": [],
   "source": [
    "weekly.rename(columns = {'close':'avg close'}, inplace = True)"
   ]
  },
  {
   "cell_type": "markdown",
   "metadata": {},
   "source": [
    "We also need to add a few of the statistics mentioned above. This includes:\n",
    "- the percent change in average close price\n",
    "- percent difference between average close price and high that week\n",
    "- percent difference between average close price and low that week\n",
    "- percent change in total volume traded"
   ]
  },
  {
   "cell_type": "code",
   "execution_count": 337,
   "metadata": {},
   "outputs": [],
   "source": [
    "weekly['close % change'] = weekly['avg close'].pct_change()\n",
    "weekly['high from close'] = weekly['high']/weekly['avg close'] - 1\n",
    "weekly['low from close'] = weekly['low']/weekly['avg close'] - 1\n",
    "weekly['volume change'] = weekly['volume'].pct_change()"
   ]
  },
  {
   "cell_type": "code",
   "execution_count": 338,
   "metadata": {},
   "outputs": [
    {
     "data": {
      "text/html": [
       "<div>\n",
       "<style scoped>\n",
       "    .dataframe tbody tr th:only-of-type {\n",
       "        vertical-align: middle;\n",
       "    }\n",
       "\n",
       "    .dataframe tbody tr th {\n",
       "        vertical-align: top;\n",
       "    }\n",
       "\n",
       "    .dataframe thead th {\n",
       "        text-align: right;\n",
       "    }\n",
       "</style>\n",
       "<table border=\"1\" class=\"dataframe\">\n",
       "  <thead>\n",
       "    <tr style=\"text-align: right;\">\n",
       "      <th></th>\n",
       "      <th>avg close</th>\n",
       "      <th>high</th>\n",
       "      <th>low</th>\n",
       "      <th>volume</th>\n",
       "      <th>close % change</th>\n",
       "      <th>high from close</th>\n",
       "      <th>low from close</th>\n",
       "      <th>volume change</th>\n",
       "    </tr>\n",
       "    <tr>\n",
       "      <th>date1</th>\n",
       "      <th></th>\n",
       "      <th></th>\n",
       "      <th></th>\n",
       "      <th></th>\n",
       "      <th></th>\n",
       "      <th></th>\n",
       "      <th></th>\n",
       "      <th></th>\n",
       "    </tr>\n",
       "  </thead>\n",
       "  <tbody>\n",
       "    <tr>\n",
       "      <th>2006-01-29</th>\n",
       "      <td>43.100</td>\n",
       "      <td>48.28</td>\n",
       "      <td>39.51</td>\n",
       "      <td>14369400</td>\n",
       "      <td>NaN</td>\n",
       "      <td>0.120186</td>\n",
       "      <td>-0.083295</td>\n",
       "      <td>NaN</td>\n",
       "    </tr>\n",
       "    <tr>\n",
       "      <th>2006-02-05</th>\n",
       "      <td>46.036</td>\n",
       "      <td>49.30</td>\n",
       "      <td>41.25</td>\n",
       "      <td>3100500</td>\n",
       "      <td>0.068121</td>\n",
       "      <td>0.070901</td>\n",
       "      <td>-0.103962</td>\n",
       "      <td>-0.784229</td>\n",
       "    </tr>\n",
       "    <tr>\n",
       "      <th>2006-02-12</th>\n",
       "      <td>45.218</td>\n",
       "      <td>48.00</td>\n",
       "      <td>41.50</td>\n",
       "      <td>1387200</td>\n",
       "      <td>-0.017769</td>\n",
       "      <td>0.061524</td>\n",
       "      <td>-0.082224</td>\n",
       "      <td>-0.552588</td>\n",
       "    </tr>\n",
       "    <tr>\n",
       "      <th>2006-02-19</th>\n",
       "      <td>43.096</td>\n",
       "      <td>45.00</td>\n",
       "      <td>41.00</td>\n",
       "      <td>926100</td>\n",
       "      <td>-0.046928</td>\n",
       "      <td>0.044180</td>\n",
       "      <td>-0.048636</td>\n",
       "      <td>-0.332396</td>\n",
       "    </tr>\n",
       "    <tr>\n",
       "      <th>2006-02-26</th>\n",
       "      <td>44.860</td>\n",
       "      <td>46.75</td>\n",
       "      <td>42.81</td>\n",
       "      <td>551600</td>\n",
       "      <td>0.040932</td>\n",
       "      <td>0.042131</td>\n",
       "      <td>-0.045698</td>\n",
       "      <td>-0.404384</td>\n",
       "    </tr>\n",
       "  </tbody>\n",
       "</table>\n",
       "</div>"
      ],
      "text/plain": [
       "            avg close   high    low    volume  close % change  \\\n",
       "date1                                                           \n",
       "2006-01-29     43.100  48.28  39.51  14369400             NaN   \n",
       "2006-02-05     46.036  49.30  41.25   3100500        0.068121   \n",
       "2006-02-12     45.218  48.00  41.50   1387200       -0.017769   \n",
       "2006-02-19     43.096  45.00  41.00    926100       -0.046928   \n",
       "2006-02-26     44.860  46.75  42.81    551600        0.040932   \n",
       "\n",
       "            high from close  low from close  volume change  \n",
       "date1                                                       \n",
       "2006-01-29         0.120186       -0.083295            NaN  \n",
       "2006-02-05         0.070901       -0.103962      -0.784229  \n",
       "2006-02-12         0.061524       -0.082224      -0.552588  \n",
       "2006-02-19         0.044180       -0.048636      -0.332396  \n",
       "2006-02-26         0.042131       -0.045698      -0.404384  "
      ]
     },
     "execution_count": 338,
     "metadata": {},
     "output_type": "execute_result"
    }
   ],
   "source": [
    "weekly.head()"
   ]
  },
  {
   "cell_type": "markdown",
   "metadata": {},
   "source": [
    "**Combining the Chipotle and Avocado Data** The Chipotle data runs from 2006 to 2019, while the avocado data runs only from 2015 to 2018. We only need the Chipotle data between the same date ranges the avocado data has."
   ]
  },
  {
   "cell_type": "code",
   "execution_count": 339,
   "metadata": {
    "scrolled": true
   },
   "outputs": [
    {
     "data": {
      "text/html": [
       "<div>\n",
       "<style scoped>\n",
       "    .dataframe tbody tr th:only-of-type {\n",
       "        vertical-align: middle;\n",
       "    }\n",
       "\n",
       "    .dataframe tbody tr th {\n",
       "        vertical-align: top;\n",
       "    }\n",
       "\n",
       "    .dataframe thead th {\n",
       "        text-align: right;\n",
       "    }\n",
       "</style>\n",
       "<table border=\"1\" class=\"dataframe\">\n",
       "  <thead>\n",
       "    <tr style=\"text-align: right;\">\n",
       "      <th></th>\n",
       "      <th>AveragePrice</th>\n",
       "      <th>Total Volume</th>\n",
       "      <th>type</th>\n",
       "      <th>year</th>\n",
       "      <th>region</th>\n",
       "      <th>price % change</th>\n",
       "    </tr>\n",
       "    <tr>\n",
       "      <th>Date1</th>\n",
       "      <th></th>\n",
       "      <th></th>\n",
       "      <th></th>\n",
       "      <th></th>\n",
       "      <th></th>\n",
       "      <th></th>\n",
       "    </tr>\n",
       "  </thead>\n",
       "  <tbody>\n",
       "    <tr>\n",
       "      <th>2015-01-04</th>\n",
       "      <td>1.46</td>\n",
       "      <td>612910.15</td>\n",
       "      <td>organic</td>\n",
       "      <td>2015</td>\n",
       "      <td>TotalUS</td>\n",
       "      <td>0.028169</td>\n",
       "    </tr>\n",
       "  </tbody>\n",
       "</table>\n",
       "</div>"
      ],
      "text/plain": [
       "            AveragePrice  Total Volume     type  year   region  price % change\n",
       "Date1                                                                         \n",
       "2015-01-04          1.46     612910.15  organic  2015  TotalUS        0.028169"
      ]
     },
     "execution_count": 339,
     "metadata": {},
     "output_type": "execute_result"
    }
   ],
   "source": [
    "organic_us.head(1)"
   ]
  },
  {
   "cell_type": "code",
   "execution_count": 340,
   "metadata": {
    "scrolled": true
   },
   "outputs": [
    {
     "data": {
      "text/html": [
       "<div>\n",
       "<style scoped>\n",
       "    .dataframe tbody tr th:only-of-type {\n",
       "        vertical-align: middle;\n",
       "    }\n",
       "\n",
       "    .dataframe tbody tr th {\n",
       "        vertical-align: top;\n",
       "    }\n",
       "\n",
       "    .dataframe thead th {\n",
       "        text-align: right;\n",
       "    }\n",
       "</style>\n",
       "<table border=\"1\" class=\"dataframe\">\n",
       "  <thead>\n",
       "    <tr style=\"text-align: right;\">\n",
       "      <th></th>\n",
       "      <th>AveragePrice</th>\n",
       "      <th>Total Volume</th>\n",
       "      <th>type</th>\n",
       "      <th>year</th>\n",
       "      <th>region</th>\n",
       "      <th>price % change</th>\n",
       "    </tr>\n",
       "    <tr>\n",
       "      <th>Date1</th>\n",
       "      <th></th>\n",
       "      <th></th>\n",
       "      <th></th>\n",
       "      <th></th>\n",
       "      <th></th>\n",
       "      <th></th>\n",
       "    </tr>\n",
       "  </thead>\n",
       "  <tbody>\n",
       "    <tr>\n",
       "      <th>2018-03-25</th>\n",
       "      <td>1.55</td>\n",
       "      <td>1559967.2</td>\n",
       "      <td>organic</td>\n",
       "      <td>2018</td>\n",
       "      <td>TotalUS</td>\n",
       "      <td>0.047297</td>\n",
       "    </tr>\n",
       "  </tbody>\n",
       "</table>\n",
       "</div>"
      ],
      "text/plain": [
       "            AveragePrice  Total Volume     type  year   region  price % change\n",
       "Date1                                                                         \n",
       "2018-03-25          1.55     1559967.2  organic  2018  TotalUS        0.047297"
      ]
     },
     "execution_count": 340,
     "metadata": {},
     "output_type": "execute_result"
    }
   ],
   "source": [
    "organic_us.tail(1)"
   ]
  },
  {
   "cell_type": "code",
   "execution_count": 341,
   "metadata": {},
   "outputs": [],
   "source": [
    "chip_1518 = weekly.loc['2015-01-04':'2018-03-25']\n",
    "\n",
    "org_combined = pd.concat([organic_us, chip_1518], axis = 1)\n",
    "\n",
    "nonorg_combined = pd.concat([nonorganic_us, chip_1518], axis = 1)"
   ]
  },
  {
   "cell_type": "code",
   "execution_count": 342,
   "metadata": {},
   "outputs": [
    {
     "data": {
      "text/html": [
       "<div>\n",
       "<style scoped>\n",
       "    .dataframe tbody tr th:only-of-type {\n",
       "        vertical-align: middle;\n",
       "    }\n",
       "\n",
       "    .dataframe tbody tr th {\n",
       "        vertical-align: top;\n",
       "    }\n",
       "\n",
       "    .dataframe thead th {\n",
       "        text-align: right;\n",
       "    }\n",
       "</style>\n",
       "<table border=\"1\" class=\"dataframe\">\n",
       "  <thead>\n",
       "    <tr style=\"text-align: right;\">\n",
       "      <th></th>\n",
       "      <th>AveragePrice</th>\n",
       "      <th>Total Volume</th>\n",
       "      <th>type</th>\n",
       "      <th>year</th>\n",
       "      <th>region</th>\n",
       "      <th>price % change</th>\n",
       "      <th>avg close</th>\n",
       "      <th>high</th>\n",
       "      <th>low</th>\n",
       "      <th>volume</th>\n",
       "      <th>close % change</th>\n",
       "      <th>high from close</th>\n",
       "      <th>low from close</th>\n",
       "      <th>volume change</th>\n",
       "    </tr>\n",
       "  </thead>\n",
       "  <tbody>\n",
       "    <tr>\n",
       "      <th>2015-01-04</th>\n",
       "      <td>1.46</td>\n",
       "      <td>612910.15</td>\n",
       "      <td>organic</td>\n",
       "      <td>2015</td>\n",
       "      <td>TotalUS</td>\n",
       "      <td>0.028169</td>\n",
       "      <td>685.1275</td>\n",
       "      <td>696.56</td>\n",
       "      <td>671.0115</td>\n",
       "      <td>1401870</td>\n",
       "      <td>0.019641</td>\n",
       "      <td>0.016687</td>\n",
       "      <td>-0.020603</td>\n",
       "      <td>0.465017</td>\n",
       "    </tr>\n",
       "    <tr>\n",
       "      <th>2015-01-11</th>\n",
       "      <td>1.42</td>\n",
       "      <td>669528.88</td>\n",
       "      <td>organic</td>\n",
       "      <td>2015</td>\n",
       "      <td>TotalUS</td>\n",
       "      <td>0.000000</td>\n",
       "      <td>692.1180</td>\n",
       "      <td>727.97</td>\n",
       "      <td>653.7700</td>\n",
       "      <td>3244817</td>\n",
       "      <td>0.010203</td>\n",
       "      <td>0.051800</td>\n",
       "      <td>-0.055407</td>\n",
       "      <td>1.314635</td>\n",
       "    </tr>\n",
       "    <tr>\n",
       "      <th>2015-01-18</th>\n",
       "      <td>1.42</td>\n",
       "      <td>713120.00</td>\n",
       "      <td>organic</td>\n",
       "      <td>2015</td>\n",
       "      <td>TotalUS</td>\n",
       "      <td>-0.071895</td>\n",
       "      <td>709.4780</td>\n",
       "      <td>724.48</td>\n",
       "      <td>696.5700</td>\n",
       "      <td>1604568</td>\n",
       "      <td>0.025082</td>\n",
       "      <td>0.021145</td>\n",
       "      <td>-0.018194</td>\n",
       "      <td>-0.505498</td>\n",
       "    </tr>\n",
       "  </tbody>\n",
       "</table>\n",
       "</div>"
      ],
      "text/plain": [
       "            AveragePrice  Total Volume     type  year   region  \\\n",
       "2015-01-04          1.46     612910.15  organic  2015  TotalUS   \n",
       "2015-01-11          1.42     669528.88  organic  2015  TotalUS   \n",
       "2015-01-18          1.42     713120.00  organic  2015  TotalUS   \n",
       "\n",
       "            price % change  avg close    high       low   volume  \\\n",
       "2015-01-04        0.028169   685.1275  696.56  671.0115  1401870   \n",
       "2015-01-11        0.000000   692.1180  727.97  653.7700  3244817   \n",
       "2015-01-18       -0.071895   709.4780  724.48  696.5700  1604568   \n",
       "\n",
       "            close % change  high from close  low from close  volume change  \n",
       "2015-01-04        0.019641         0.016687       -0.020603       0.465017  \n",
       "2015-01-11        0.010203         0.051800       -0.055407       1.314635  \n",
       "2015-01-18        0.025082         0.021145       -0.018194      -0.505498  "
      ]
     },
     "execution_count": 342,
     "metadata": {},
     "output_type": "execute_result"
    }
   ],
   "source": [
    "org_combined.head(3)"
   ]
  },
  {
   "cell_type": "code",
   "execution_count": 343,
   "metadata": {
    "scrolled": true
   },
   "outputs": [
    {
     "data": {
      "text/html": [
       "<div>\n",
       "<style scoped>\n",
       "    .dataframe tbody tr th:only-of-type {\n",
       "        vertical-align: middle;\n",
       "    }\n",
       "\n",
       "    .dataframe tbody tr th {\n",
       "        vertical-align: top;\n",
       "    }\n",
       "\n",
       "    .dataframe thead th {\n",
       "        text-align: right;\n",
       "    }\n",
       "</style>\n",
       "<table border=\"1\" class=\"dataframe\">\n",
       "  <thead>\n",
       "    <tr style=\"text-align: right;\">\n",
       "      <th></th>\n",
       "      <th>AveragePrice</th>\n",
       "      <th>Total Volume</th>\n",
       "      <th>type</th>\n",
       "      <th>year</th>\n",
       "      <th>region</th>\n",
       "      <th>price % change</th>\n",
       "      <th>avg close</th>\n",
       "      <th>high</th>\n",
       "      <th>low</th>\n",
       "      <th>volume</th>\n",
       "      <th>close % change</th>\n",
       "      <th>high from close</th>\n",
       "      <th>low from close</th>\n",
       "      <th>volume change</th>\n",
       "    </tr>\n",
       "  </thead>\n",
       "  <tbody>\n",
       "    <tr>\n",
       "      <th>2015-01-04</th>\n",
       "      <td>0.95</td>\n",
       "      <td>31324277.73</td>\n",
       "      <td>conventional</td>\n",
       "      <td>2015</td>\n",
       "      <td>TotalUS</td>\n",
       "      <td>-0.059406</td>\n",
       "      <td>685.1275</td>\n",
       "      <td>696.56</td>\n",
       "      <td>671.0115</td>\n",
       "      <td>1401870</td>\n",
       "      <td>0.019641</td>\n",
       "      <td>0.016687</td>\n",
       "      <td>-0.020603</td>\n",
       "      <td>0.465017</td>\n",
       "    </tr>\n",
       "    <tr>\n",
       "      <th>2015-01-11</th>\n",
       "      <td>1.01</td>\n",
       "      <td>29063542.75</td>\n",
       "      <td>conventional</td>\n",
       "      <td>2015</td>\n",
       "      <td>TotalUS</td>\n",
       "      <td>-0.019417</td>\n",
       "      <td>692.1180</td>\n",
       "      <td>727.97</td>\n",
       "      <td>653.7700</td>\n",
       "      <td>3244817</td>\n",
       "      <td>0.010203</td>\n",
       "      <td>0.051800</td>\n",
       "      <td>-0.055407</td>\n",
       "      <td>1.314635</td>\n",
       "    </tr>\n",
       "    <tr>\n",
       "      <th>2015-01-18</th>\n",
       "      <td>1.03</td>\n",
       "      <td>29043458.85</td>\n",
       "      <td>conventional</td>\n",
       "      <td>2015</td>\n",
       "      <td>TotalUS</td>\n",
       "      <td>-0.009615</td>\n",
       "      <td>709.4780</td>\n",
       "      <td>724.48</td>\n",
       "      <td>696.5700</td>\n",
       "      <td>1604568</td>\n",
       "      <td>0.025082</td>\n",
       "      <td>0.021145</td>\n",
       "      <td>-0.018194</td>\n",
       "      <td>-0.505498</td>\n",
       "    </tr>\n",
       "  </tbody>\n",
       "</table>\n",
       "</div>"
      ],
      "text/plain": [
       "            AveragePrice  Total Volume          type  year   region  \\\n",
       "2015-01-04          0.95   31324277.73  conventional  2015  TotalUS   \n",
       "2015-01-11          1.01   29063542.75  conventional  2015  TotalUS   \n",
       "2015-01-18          1.03   29043458.85  conventional  2015  TotalUS   \n",
       "\n",
       "            price % change  avg close    high       low   volume  \\\n",
       "2015-01-04       -0.059406   685.1275  696.56  671.0115  1401870   \n",
       "2015-01-11       -0.019417   692.1180  727.97  653.7700  3244817   \n",
       "2015-01-18       -0.009615   709.4780  724.48  696.5700  1604568   \n",
       "\n",
       "            close % change  high from close  low from close  volume change  \n",
       "2015-01-04        0.019641         0.016687       -0.020603       0.465017  \n",
       "2015-01-11        0.010203         0.051800       -0.055407       1.314635  \n",
       "2015-01-18        0.025082         0.021145       -0.018194      -0.505498  "
      ]
     },
     "execution_count": 343,
     "metadata": {},
     "output_type": "execute_result"
    }
   ],
   "source": [
    "nonorg_combined.head(3)"
   ]
  },
  {
   "cell_type": "markdown",
   "metadata": {},
   "source": [
    "**Using Significant Data** Now that the data is combined and sorted by week, we want to create new datasets for when the percentage change in price for avocados is greater than or less than 1 standard deviation (I was considering doing 2 standard deviations, but there is very little data for when the price exceeds 2 standard deviations)."
   ]
  },
  {
   "cell_type": "code",
   "execution_count": 344,
   "metadata": {},
   "outputs": [],
   "source": [
    "org_sig_up = org_combined[org_combined['price % change'] >= org_sd_up]\n",
    "nonorg_sig_up = nonorg_combined[nonorg_combined['price % change'] >= nonorg_sd_up]\n",
    "\n",
    "org_sig_down = org_combined[org_combined['price % change'] <= org_sd_down]\n",
    "nonorg_sig_down = nonorg_combined[nonorg_combined['price % change'] <= nonorg_sd_down]"
   ]
  },
  {
   "cell_type": "markdown",
   "metadata": {},
   "source": [
    "### Data Visualisation\n",
    "\n",
    "Now that all the data is organized, We will create graphs to represent our data."
   ]
  },
  {
   "cell_type": "markdown",
   "metadata": {},
   "source": [
    "**Between % Change in Avocado Price and % Change in Weekly Average Closing Price**\n",
    "\n",
    "Here we're trying to see if significant changes in avocado prices will also cause a change in Avocado's share price. Specifically, we want to see if there is a relevant negative relationship - where if a decrease in input prices will increase share price."
   ]
  },
  {
   "cell_type": "code",
   "execution_count": 350,
   "metadata": {
    "scrolled": false
   },
   "outputs": [
    {
     "data": {
      "text/plain": [
       "Text(0.5, 0, 'Avocado % Price Change')"
      ]
     },
     "execution_count": 350,
     "metadata": {},
     "output_type": "execute_result"
    },
    {
     "data": {
      "image/png": "[encoded data removed]",
      "text/plain": [
       "<Figure size 1080x504 with 2 Axes>"
      ]
     },
     "metadata": {
      "needs_background": "light"
     },
     "output_type": "display_data"
    }
   ],
   "source": [
    "fig, ax = plt.subplots(figsize = (15,7))\n",
    "\n",
    "plt.subplot(122)\n",
    "plt.scatter(org_sig_up['price % change'], org_sig_up['close % change'])\n",
    "plt.title('Organic Avocado Prices Above 1 SD')\n",
    "plt.ylabel('Chipotle % Price Change')\n",
    "plt.xlabel('Avocado % Price Change')\n",
    "\n",
    "plt.subplot(121)\n",
    "plt.scatter(org_sig_down['price % change'], org_sig_down['close % change'])\n",
    "plt.title('Organic Avocado Prices Below 1 SD')\n",
    "plt.ylabel('Chipotle % Price Change')\n",
    "plt.xlabel('Avocado % Price Change')"
   ]
  },
  {
   "cell_type": "code",
   "execution_count": 351,
   "metadata": {},
   "outputs": [
    {
     "data": {
      "text/plain": [
       "Text(0.5, 0, 'Avocado % Price Change')"
      ]
     },
     "execution_count": 351,
     "metadata": {},
     "output_type": "execute_result"
    },
    {
     "data": {
      "image/png": "[encoded data removed]",
      "text/plain": [
       "<Figure size 1080x504 with 2 Axes>"
      ]
     },
     "metadata": {
      "needs_background": "light"
     },
     "output_type": "display_data"
    }
   ],
   "source": [
    "fig, ax = plt.subplots(figsize = (15,7))\n",
    "\n",
    "plt.subplot(122)\n",
    "plt.scatter(nonorg_sig_up['price % change'], nonorg_sig_up['close % change'])\n",
    "plt.title('Non-Organic Avocado Prices Above 1 SD')\n",
    "plt.ylabel('Chipotle % Price Change')\n",
    "plt.xlabel('Avocado % Price Change')\n",
    "\n",
    "plt.subplot(121)\n",
    "plt.scatter(nonorg_sig_down['price % change'], nonorg_sig_down['close % change'])\n",
    "plt.title('Non-Organic Avocado Prices Below 1 SD')\n",
    "plt.ylabel('Chipotle % Price Change')\n",
    "plt.xlabel('Avocado % Price Change')"
   ]
  },
  {
   "cell_type": "code",
   "execution_count": 292,
   "metadata": {
    "scrolled": false
   },
   "outputs": [
    {
     "data": {
      "text/plain": [
       "Text(0.5, 0, 'Date')"
      ]
     },
     "execution_count": 292,
     "metadata": {},
     "output_type": "execute_result"
    },
    {
     "data": {
      "image/png": "[encoded data removed]",
      "text/plain": [
       "<Figure size 3240x864 with 1 Axes>"
      ]
     },
     "metadata": {
      "needs_background": "light"
     },
     "output_type": "display_data"
    }
   ],
   "source": [
    "fig, ax = plt.subplots(figsize = (45,12))\n",
    "\n",
    "start = 'January 01 2015'\n",
    "end = 'May 01 2018'\n",
    "\n",
    "plt.subplot(122)\n",
    "plt.plot(nonorg_combined['price % change'], color = 'blue')\n",
    "plt.plot(nonorg_combined['close % change'], color = 'orange')\n",
    "plt.legend(('Avocado', 'Chipotle'))\n",
    "plt.title('Non-Organic Negative Price Change Significant')\n",
    "plt.ylabel('Percent Change')\n",
    "plt.xlabel('Date')"
   ]
  },
  {
   "cell_type": "markdown",
   "metadata": {},
   "source": [
    "**Between % Change in Avocado Price and % Difference between Weekly High/Low and Weekly Average Close**\n",
    "\n",
    "Here we are trying to see if significant changes in avocado prices can cause Chipotle's stock to reach a high or fall to a law that is significant with regard to normal weekly fluctuations."
   ]
  },
  {
   "cell_type": "code",
   "execution_count": 356,
   "metadata": {
    "scrolled": true
   },
   "outputs": [
    {
     "data": {
      "text/plain": [
       "(0.032527347216595046, -0.030950372119756715)"
      ]
     },
     "execution_count": 356,
     "metadata": {},
     "output_type": "execute_result"
    }
   ],
   "source": [
    "(nonorg_combined['high from close'].mean(), nonorg_combined['low from close'].mean())"
   ]
  },
  {
   "cell_type": "code",
   "execution_count": 382,
   "metadata": {},
   "outputs": [
    {
     "data": {
      "text/plain": [
       "<matplotlib.collections.LineCollection at 0x1253a76d8>"
      ]
     },
     "execution_count": 382,
     "metadata": {},
     "output_type": "execute_result"
    },
    {
     "data": {
      "image/png": "[encoded data removed]",
      "text/plain": [
       "<Figure size 1080x504 with 2 Axes>"
      ]
     },
     "metadata": {
      "needs_background": "light"
     },
     "output_type": "display_data"
    }
   ],
   "source": [
    "fig, ax = plt.subplots(figsize = (15,7))\n",
    "\n",
    "plt.subplot(122)\n",
    "plt.scatter(nonorg_sig_up['price % change'], nonorg_sig_up['low from close'])\n",
    "plt.title('Non-Organic Difference Between Low and Close')\n",
    "plt.ylabel('% Diff Between Low and Close')\n",
    "plt.xlabel('% Price Change')\n",
    "plt.hlines(-.03095, .05, .27, color = 'red')\n",
    "\n",
    "plt.subplot(121)\n",
    "plt.scatter(nonorg_sig_down['price % change'], nonorg_sig_down['high from close'])\n",
    "plt.title('Non-Organic Difference Between High and Close')\n",
    "plt.ylabel('% Diff Between High and Close')\n",
    "plt.xlabel('% Price Change')\n",
    "plt.hlines(.03252, -.16, -.05, color = 'red')"
   ]
  },
  {
   "cell_type": "code",
   "execution_count": 386,
   "metadata": {},
   "outputs": [
    {
     "data": {
      "text/plain": [
       "<matplotlib.collections.LineCollection at 0x126ede048>"
      ]
     },
     "execution_count": 386,
     "metadata": {},
     "output_type": "execute_result"
    },
    {
     "data": {
      "image/png": "[encoded data removed]",
      "text/plain": [
       "<Figure size 1080x504 with 2 Axes>"
      ]
     },
     "metadata": {
      "needs_background": "light"
     },
     "output_type": "display_data"
    }
   ],
   "source": [
    "fig, ax = plt.subplots(figsize = (15,7))\n",
    "\n",
    "plt.subplot(122)\n",
    "plt.scatter(org_sig_up['price % change'], org_sig_up['low from close'])\n",
    "plt.title('Organic Difference Between Low and Close')\n",
    "plt.ylabel('% Diff Between Low and Close')\n",
    "plt.xlabel('% Price Change')\n",
    "plt.hlines(-.03095, .05, .75, color = 'red')\n",
    "\n",
    "plt.subplot(121)\n",
    "plt.scatter(org_sig_down['price % change'], org_sig_down['high from close'])\n",
    "plt.title('Organic Difference Between High and Close')\n",
    "plt.ylabel('% Diff Between High and Close')\n",
    "plt.xlabel('% Price Change')\n",
    "plt.hlines(.03252, -.5, -.05, color = 'red')"
   ]
  },
  {
   "cell_type": "markdown",
   "metadata": {},
   "source": [
    "**Between % Change in Avocado Price and % Change in Volume of Transactions**\n",
    "\n",
    "Here we are trying to see if significant changes in avocado prices can impact the number of transactions that occur during the week."
   ]
  },
  {
   "cell_type": "code",
   "execution_count": 387,
   "metadata": {},
   "outputs": [
    {
     "data": {
      "text/plain": [
       "5108740.928994083"
      ]
     },
     "execution_count": 387,
     "metadata": {},
     "output_type": "execute_result"
    }
   ],
   "source": [
    "nonorg_combined['volume'].mean()"
   ]
  },
  {
   "cell_type": "code",
   "execution_count": 403,
   "metadata": {},
   "outputs": [
    {
     "data": {
      "text/plain": [
       "<matplotlib.collections.LineCollection at 0x12815deb8>"
      ]
     },
     "execution_count": 403,
     "metadata": {},
     "output_type": "execute_result"
    },
    {
     "data": {
      "image/png": "[encoded data removed]",
      "text/plain": [
       "<Figure size 1080x504 with 1 Axes>"
      ]
     },
     "metadata": {
      "needs_background": "light"
     },
     "output_type": "display_data"
    }
   ],
   "source": [
    "fig, ax = plt.subplots(figsize = (15,7))\n",
    "\n",
    "plt.subplot(122)\n",
    "plt.scatter(org_sig_up['price % change'], org_sig_up['volume'])\n",
    "plt.scatter(org_sig_down['price % change'], org_sig_down['volume'])\n",
    "plt.title('Organic Volume Traded')\n",
    "plt.ylabel('Volume Traded, in tens of millions')\n",
    "plt.xlabel('% Price Change')\n",
    "plt.hlines(5108741, -.5, .75, color = 'red')"
   ]
  },
  {
   "cell_type": "code",
   "execution_count": 402,
   "metadata": {},
   "outputs": [
    {
     "data": {
      "text/plain": [
       "<matplotlib.collections.LineCollection at 0x1280e5fd0>"
      ]
     },
     "execution_count": 402,
     "metadata": {},
     "output_type": "execute_result"
    },
    {
     "data": {
      "image/png": "[encoded data removed]",
      "text/plain": [
       "<Figure size 1080x504 with 1 Axes>"
      ]
     },
     "metadata": {
      "needs_background": "light"
     },
     "output_type": "display_data"
    }
   ],
   "source": [
    "fig, ax = plt.subplots(figsize = (15,7))\n",
    "\n",
    "plt.subplot(122)\n",
    "plt.scatter(nonorg_sig_up['price % change'], nonorg_sig_up['volume'])\n",
    "plt.scatter(nonorg_sig_down['price % change'], nonorg_sig_down['volume'])\n",
    "plt.title('Non-Organic Volume Traded')\n",
    "plt.ylabel('Volume Traded, in tens of millions')\n",
    "plt.xlabel('% Price Change')\n",
    "plt.hlines(5108741, -.2, .3, color = 'red')"
   ]
  },
  {
   "cell_type": "markdown",
   "metadata": {},
   "source": [
    "### Summary\n",
    "\n",
    "Looking at all three data comparisons observed, we draw the conclusion that we cannot observe a relationship between avocado prices and Chipotle trading price/activity; this is true for both organic and inorganic avocados.\n",
    "\n",
    "In the comparison (scatter plot) between percent change of avocado prices and percent change of Chipotle's weekly average closing price, no correlation was observed. In a line graph with both percent change of Chipotle and avocado prices, the trend, over certain periods, seemed to positive instead of inverse - as in, Chipotle's share price would increase as avocado prices were increasing. This may be due to macroeconomic factors.\n",
    "\n",
    "In the scatter plot that compared the change in avocado prices with the difference between the average share price and the high/low share price, no relationship could be seen again. On both graphs, I marked, with a line, the mean of the weekly difference between average share price and high/low share price, but the data points fell pretty equally on both sides of the line.\n",
    "\n",
    "I took a similar approach to compare the change in avocado prices with the transaction volume. Marking the mean transaction volume per week, I saw that the number of transactions, again, for weeks where there was meaningful avocado price change, again fell on both sides of the line.\n",
    "\n",
    "Therefore, I draw the conclusion that there is no **regular** relationship between avocado price and Chipotle share price. However, in situations where quarterly earnings are released that attribute higher earnings with lower avocado prices, it's possible that the share price will increase. The relationship between avocado and Chipotle price may not exist so concretely because, perhaps, people do not trade Chipotle's stock with avocado prices as a consistent factor/variable.\n",
    "\n",
    "Lastly, I'd also like to acknowledge that perhaps the results may be different if I qualified meaningful change in avocado prices on its second standard deviation instead of its first."
   ]
  }
 ],
 "metadata": {
  "kernelspec": {
   "display_name": "Python 3",
   "language": "python",
   "name": "python3"
  },
  "language_info": {
   "codemirror_mode": {
    "name": "ipython",
    "version": 3
   },
   "file_extension": ".py",
   "mimetype": "text/x-python",
   "name": "python",
   "nbconvert_exporter": "python",
   "pygments_lexer": "ipython3",
   "version": "3.7.1"
  }
 },
 "nbformat": 4,
 "nbformat_minor": 2
}
